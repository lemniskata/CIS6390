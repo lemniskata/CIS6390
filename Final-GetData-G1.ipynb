{
 "cells": [
  {
   "cell_type": "code",
   "execution_count": 7,
   "metadata": {},
   "outputs": [],
   "source": [
    "import requests\n",
    "import time\n",
    "import json\n",
    "from datetime import datetime\n",
    "from requests_oauthlib import OAuth1\n",
    "\n",
    "credentials = {\n",
    "    'CONSUMER_KEY': '',\n",
    "    'CONSUMER_SECRET': '',\n",
    "    'TOKEN_KEY': '',\n",
    "    'TOKEN_SECRET': '',\n",
    "}\n",
    "\n",
    "def authenticate(credentials):\n",
    "    try:\n",
    "        oauth = OAuth1(client_key=credentials['CONSUMER_KEY'],\n",
    "                      client_secret=credentials['CONSUMER_SECRET'],\n",
    "                      resource_owner_key=credentials['TOKEN_KEY'],\n",
    "                      resource_owner_secret=credentials['TOKEN_SECRET'],\n",
    "                      signature_type='auth_header')\n",
    "        client = requests.session()\n",
    "        client.auth = oauth\n",
    "        return client\n",
    "    except (KeyError, TypeError):\n",
    "        print('Error setting auth credentials.')\n",
    "        raise\n",
    "\n",
    "client = authenticate(credentials)\n",
    "\n",
    "URL = 'https://api.twitter.com/1.1/search/tweets.json'\n",
    "QUERY = '(#Romaine OR @Romaine) AND -filter:retweets' #Change for SaudiArabia and Thanksgiving\n",
    "MAX_TWEETS = 10_000\n",
    "\n",
    "statuses = []\n",
    "flag = True\n",
    "params = {'q': QUERY, 'count': 100, 'tweet_mode': 'extended'}\n"
   ]
  },
  {
   "cell_type": "code",
   "execution_count": 8,
   "metadata": {},
   "outputs": [
    {
     "name": "stdout",
     "output_type": "stream",
     "text": [
      "Got 100 statuses, sleeping for 5 seconds\n",
      "Got 200 statuses, sleeping for 5 seconds\n",
      "Got 300 statuses, sleeping for 5 seconds\n",
      "Got 400 statuses, sleeping for 5 seconds\n",
      "Got 500 statuses, sleeping for 5 seconds\n",
      "Got 600 statuses, sleeping for 5 seconds\n"
     ]
    }
   ],
   "source": [
    "\n",
    "while flag:\n",
    "    response = client.get(URL, params=params)\n",
    "    \n",
    "    if response.status_code == 200:\n",
    "        payload = response.json()\n",
    "        statuses.append(payload['statuses'])\n",
    "        metadata = payload['search_metadata']\n",
    "        \n",
    "        if 'next_results' in metadata:\n",
    "            params['max_id'] = metadata['next_results'].split('?')[1].split('&')[0].split('=')[1]\n",
    "        else:\n",
    "            flag = False\n",
    "            continue\n",
    "            \n",
    "        print('Got {0} statuses, sleeping for 5 seconds'.format(len(statuses) * 100));\n",
    "        time.sleep(5)\n",
    "    else:\n",
    "        print('Sleeping for 10 seconds, status is:{0}'.format(response.status_code));\n",
    "        time.sleep(10)\n",
    "   \n",
    "    if len(statuses) * 100 >= MAX_TWEETS:\n",
    "        flag = False\n",
    "        continue"
   ]
  },
  {
   "cell_type": "code",
   "execution_count": 9,
   "metadata": {},
   "outputs": [],
   "source": [
    "#Change for SaudiArabia and Thanksgiving\n",
    "with open('path\\\\Romaine.json', 'w') as outfile:\n",
    "    json.dump(statuses, outfile)"
   ]
  }
 ],
 "metadata": {
  "kernelspec": {
   "display_name": "Python 3",
   "language": "python",
   "name": "python3"
  },
  "language_info": {
   "codemirror_mode": {
    "name": "ipython",
    "version": 3
   },
   "file_extension": ".py",
   "mimetype": "text/x-python",
   "name": "python",
   "nbconvert_exporter": "python",
   "pygments_lexer": "ipython3",
   "version": "3.6.5"
  }
 },
 "nbformat": 4,
 "nbformat_minor": 2
}
