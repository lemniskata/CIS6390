{
 "cells": [
  {
   "cell_type": "code",
   "execution_count": 1,
   "metadata": {},
   "outputs": [],
   "source": [
    "import networkx as nx\n",
    "import json\n",
    "from textblob import TextBlob\n",
    "from datetime import datetime\n",
    "from community import community_louvain\n",
    "import matplotlib.pyplot as plt\n",
    "import numpy as np"
   ]
  },
  {
   "cell_type": "code",
   "execution_count": 21,
   "metadata": {},
   "outputs": [],
   "source": [
    "data = []\n",
    "json_data=open('path\\\\Thanksgiving.json').read()\n",
    "data.append(json.loads(json_data))\n",
    "\n",
    "data1 = []\n",
    "json_data=open('path\\\\Romaine.json').read()\n",
    "data1.append(json.loads(json_data))\n"
   ]
  },
  {
   "cell_type": "code",
   "execution_count": 32,
   "metadata": {},
   "outputs": [],
   "source": [
    "romaineUsers = []\n",
    "for l in range(len(data1)):\n",
    "    for i in range(len(data1[l])):\n",
    "        for j in range(len(data1[l][i])):\n",
    "            obj = data1[l][i][j]\n",
    "            if 'user' in obj:\n",
    "                romaineUsers.append(obj['user']['screen_name'])\n",
    "commonUsers = []\n",
    "for l in range(len(data)):\n",
    "    for i in range(len(data[l])):\n",
    "        for j in range(len(data[l][i])):\n",
    "            obj = data[l][i][j]\n",
    "            if 'user' in obj:\n",
    "                if obj['user']['screen_name'] in romaineUsers:\n",
    "                    commonUsers.append(obj['user']['screen_name'])"
   ]
  },
  {
   "cell_type": "code",
   "execution_count": 42,
   "metadata": {},
   "outputs": [],
   "source": [
    "\n",
    "UserData = {}\n",
    "for l in range(len(data)):\n",
    "    for i in range(len(data[l])):\n",
    "        for j in range(len(data[l][i])):\n",
    "            obj = data[l][i][j]\n",
    "            hashtags = {}\n",
    "            if 'user' in obj:\n",
    "                if obj['user']['screen_name'] in commonUsers:\n",
    "                    testimonial = TextBlob(obj['full_text'])\n",
    "                    if obj['user']['screen_name'] in UserData:\n",
    "                        hashtags = UserData[obj['user']['screen_name']]\n",
    "                    for h in obj['entities']['hashtags']:\n",
    "                        if not '#' + h['text'] in hashtags:\n",
    "                            hashtags['#' + h['text']] = {}\n",
    "                            hashtags['#' + h['text']]['tweeted'] = obj['created_at']\n",
    "                            hashtags['#' + h['text']]['sentiment'] = testimonial.sentiment\n",
    "                    UserData[obj['user']['screen_name']] = hashtags\n",
    "                    \n",
    "UserData1 = {}\n",
    "for l in range(len(data1)):\n",
    "    for i in range(len(data1[l])):\n",
    "        for j in range(len(data1[l][i])):\n",
    "            obj = data1[l][i][j]\n",
    "            hashtags = {}\n",
    "            if 'user' in obj:\n",
    "                if obj['user']['screen_name'] in commonUsers:\n",
    "                    testimonial = TextBlob(obj['full_text'])\n",
    "                    if obj['user']['screen_name'] in UserData1:\n",
    "                        hashtags = UserData1[obj['user']['screen_name']]\n",
    "                    for h in obj['entities']['hashtags']:\n",
    "                        if not '#' + h['text'] in hashtags:\n",
    "                            hashtags['#' + h['text']] = {}\n",
    "                            hashtags['#' + h['text']]['tweeted'] = obj['created_at']\n",
    "                            hashtags['#' + h['text']]['sentiment'] = testimonial.sentiment\n",
    "                    UserData1[obj['user']['screen_name']] = hashtags"
   ]
  },
  {
   "cell_type": "code",
   "execution_count": 39,
   "metadata": {},
   "outputs": [],
   "source": [
    "def getSentimentArea(sentiment):\n",
    "    if sentiment[0] == 0 and sentiment[1] == 0:\n",
    "        return 1\n",
    "    if sentiment[0] == 0 and sentiment[1] > 0:\n",
    "        return 2\n",
    "    if sentiment[0] > 0 and sentiment[1] > 0:\n",
    "        return 3\n",
    "    if sentiment[0] > 0 and sentiment[1] == 0:\n",
    "        return 4\n",
    "    if sentiment[0] == 0 and sentiment[1] < 0:\n",
    "        return 5\n",
    "    if sentiment[0] < 0 and sentiment[1] < 0:\n",
    "        return 6\n",
    "    if sentiment[0] < 0 and sentiment[1] == 0:\n",
    "        return 7\n",
    "    if sentiment[0] < 0 and sentiment[1] > 0:\n",
    "        return 8\n",
    "    if sentiment[0] > 0 and sentiment[1] < 0:\n",
    "        return 9\n",
    "    \n",
    "    return 10"
   ]
  },
  {
   "cell_type": "code",
   "execution_count": 40,
   "metadata": {},
   "outputs": [],
   "source": [
    "def calcHashtagWeight(hashtag1,hashtag2):\n",
    "    fmt = '%a %b %d %H:%M:%S +0000 %Y'\n",
    "    d1 = datetime.strptime(hashtag1['tweeted'], fmt)\n",
    "    d2 = datetime.strptime(hashtag2['tweeted'], fmt)\n",
    "\n",
    "    minutesDiff = 20000.0 - ((d1 - d2).seconds/60.0)\n",
    "    \n",
    "    s1 = getSentimentArea(hashtag1['sentiment'])\n",
    "    s2 = getSentimentArea(hashtag2['sentiment'])\n",
    "    \n",
    "    if s1!=s2: #if the sentiment area is different then consider not connected. Optionally we could reduce the weight by a factor\n",
    "        minutesDiff = 0\n",
    "        \n",
    "    return minutesDiff"
   ]
  },
  {
   "cell_type": "code",
   "execution_count": 43,
   "metadata": {},
   "outputs": [],
   "source": [
    "def calcWeight(user1,user2):\n",
    "    weight=0\n",
    "    for hashtag in user1:\n",
    "        if hashtag in user2:\n",
    "            weight+=calcHashtagWeight(user1[hashtag],user2[hashtag])\n",
    "    return weight"
   ]
  },
  {
   "cell_type": "code",
   "execution_count": 46,
   "metadata": {},
   "outputs": [
    {
     "name": "stdout",
     "output_type": "stream",
     "text": [
      "Processing please wait ... 0.0%\n",
      "Done\n"
     ]
    }
   ],
   "source": [
    "gephiDataEdges = []\n",
    "gephiDataNodes = []\n",
    "i=-1\n",
    "j=-1\n",
    "for user1 in UserData:\n",
    "    i=i+1\n",
    "    j=-1\n",
    "    node = []\n",
    "    node.append(user1)\n",
    "    node.append(user1)\n",
    "    gephiDataNodes.append(node)\n",
    "    if i%100==0:\n",
    "        print(\"Processing please wait ... {0}%\".format(i*100.0/len(UserData)))\n",
    "    for user2 in UserData:\n",
    "        j=j+1\n",
    "        if j>i:\n",
    "            weight = calcWeight(UserData[user1],UserData[user2])\n",
    "            if weight > 0:\n",
    "                edge = []\n",
    "                edge.append(user1)\n",
    "                edge.append(user2)\n",
    "                edge.append('undirected')\n",
    "                edge.append(weight)\n",
    "                gephiDataEdges.append(edge)\n",
    "                \n",
    "np.savetxt(\"path\\\\Thanksgiving_Nodes_Common.csv\", gephiDataNodes, delimiter=\",\", fmt='%s', header=\"Id,Label\",comments='')\n",
    "np.savetxt(\"path\\\\Thanksgiving_Edges_Common.csv\", gephiDataEdges, delimiter=\",\", fmt='%s', header=\"Source,Target,Type,Weight\",comments='')\n",
    "print('Done')"
   ]
  },
  {
   "cell_type": "code",
   "execution_count": 45,
   "metadata": {},
   "outputs": [
    {
     "name": "stdout",
     "output_type": "stream",
     "text": [
      "Processing please wait ... 0.0%\n",
      "Done\n"
     ]
    }
   ],
   "source": [
    "gephiData = []\n",
    "i=-1\n",
    "j=-1\n",
    "for user1 in UserData1:\n",
    "    i=i+1\n",
    "    j=-1\n",
    "    if i%100==0:\n",
    "        print(\"Processing please wait ... {0}%\".format(i*100.0/len(UserData1)))\n",
    "    for user2 in UserData1:\n",
    "        j=j+1\n",
    "        if j>i:\n",
    "            weight = calcWeight(UserData1[user1],UserData1[user2])\n",
    "            if weight > 0:\n",
    "                edge = []\n",
    "                edge.append(user1)\n",
    "                edge.append(user2)\n",
    "                edge.append('undirected')\n",
    "                edge.append(weight)\n",
    "                gephiData.append(edge)\n",
    "\n",
    "np.savetxt(\"path\\\\Romaine_Edges_Common.csv\", gephiData, delimiter=\",\", fmt='%s', header=\"Source,Target,Type,Weight\",comments='')\n",
    "print('Done')"
   ]
  },
  {
   "cell_type": "code",
   "execution_count": 47,
   "metadata": {},
   "outputs": [],
   "source": [
    "def getTweets(username):\n",
    "    for l in range(len(data)):\n",
    "        for i in range(len(data[l])):\n",
    "            for j in range(len(data[l][i])):\n",
    "                obj = data[l][i][j]\n",
    "                if 'user' in obj:\n",
    "                    if obj['user']['screen_name'] == username:\n",
    "                        print(\"User: {0} Tweet: {1}\".format(username,obj['full_text']))\n",
    "                    "
   ]
  }
 ],
 "metadata": {
  "kernelspec": {
   "display_name": "Python 3",
   "language": "python",
   "name": "python3"
  },
  "language_info": {
   "codemirror_mode": {
    "name": "ipython",
    "version": 3
   },
   "file_extension": ".py",
   "mimetype": "text/x-python",
   "name": "python",
   "nbconvert_exporter": "python",
   "pygments_lexer": "ipython3",
   "version": "3.6.5"
  }
 },
 "nbformat": 4,
 "nbformat_minor": 2
}
